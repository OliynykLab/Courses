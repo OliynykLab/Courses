{
 "cells": [
  {
   "cell_type": "markdown",
   "id": "e5cf4748-f41f-4b61-8867-56ca078e6358",
   "metadata": {},
   "source": [
    "# Installing Python\n",
    "To begin, we start by downloading Python. The most recent version of this as the time of the upload is Python 3.13.1. Installation can be found here:\n",
    "\n",
    "- https://www.python.org/downloads/\n",
    "\n",
    "To ensure the PATH variable is set correctly, you can double-check the following website:\n",
    "\n",
    "- https://www.xda-developers.com/how-add-python-path-macos/ (MacOS)\n",
    "- https://stackoverflow.com/questions/3701646/how-to-add-to-the-pythonpath-in-windows-so-it-finds-my-modules-packages (Windows)"
   ]
  },
  {
   "cell_type": "markdown",
   "id": "3546b912-ff78-4cbd-b1bc-28258f29b13f",
   "metadata": {},
   "source": [
    "# Installing Conda \n",
    "Anaconda or Miniconda (its little brother) helps to manage environments. Let's say we want to work with packages like matplotlib, or even sketchy ones that may not be complete or functional. For security and bookkeeping purposes, we work in evironments rather than install packages directly on our computer (on our desktop or something). Installation can be found here, I recomment downloading Anaconda - it has a nice GUI (graphical-user-interface):\n",
    "\n",
    "- https://www.anaconda.com/download\n",
    "\n",
    "With instructions here:\n",
    "\n",
    "- https://docs.conda.io/projects/conda/en/latest/user-guide/install/index.html"
   ]
  },
  {
   "cell_type": "code",
   "execution_count": null,
   "id": "4de1cb7e-2ca5-48cc-95aa-b40c7cbf6b55",
   "metadata": {},
   "outputs": [],
   "source": []
  }
 ],
 "metadata": {
  "kernelspec": {
   "display_name": "Python 3 (ipykernel)",
   "language": "python",
   "name": "python3"
  },
  "language_info": {
   "codemirror_mode": {
    "name": "ipython",
    "version": 3
   },
   "file_extension": ".py",
   "mimetype": "text/x-python",
   "name": "python",
   "nbconvert_exporter": "python",
   "pygments_lexer": "ipython3",
   "version": "3.12.2"
  }
 },
 "nbformat": 4,
 "nbformat_minor": 5
}
